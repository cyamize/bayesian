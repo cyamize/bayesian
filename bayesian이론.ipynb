{
  "nbformat": 4,
  "nbformat_minor": 0,
  "metadata": {
    "colab": {
      "name": "bayesian이론",
      "provenance": [],
      "authorship_tag": "ABX9TyO24I0b1VlBU1iFsjcal/7B",
      "include_colab_link": true
    },
    "kernelspec": {
      "name": "python3",
      "display_name": "Python 3"
    },
    "language_info": {
      "name": "python"
    },
    "accelerator": "GPU"
  },
  "cells": [
    {
      "cell_type": "markdown",
      "metadata": {
        "id": "view-in-github",
        "colab_type": "text"
      },
      "source": [
        "<a href=\"https://colab.research.google.com/github/cyamize/bayesian/blob/main/bayesian%EC%9D%B4%EB%A1%A0.ipynb\" target=\"_parent\"><img src=\"https://colab.research.google.com/assets/colab-badge.svg\" alt=\"Open In Colab\"/></a>"
      ]
    },
    {
      "cell_type": "code",
      "metadata": {
        "id": "2gkpxJzkVq8_"
      },
      "source": [
        "import numpy as np\n",
        "import pandas as pd\n",
        "from nltk.corpus import stopwords\n",
        "import string\n",
        "import nltk"
      ],
      "execution_count": 4,
      "outputs": []
    },
    {
      "cell_type": "code",
      "metadata": {
        "colab": {
          "base_uri": "https://localhost:8080/"
        },
        "id": "iKF5mRCu1eL6",
        "outputId": "95408fbd-8a82-408a-c65d-4fc17a8724af"
      },
      "source": [
        "nltk.download('stopwords')"
      ],
      "execution_count": 5,
      "outputs": [
        {
          "output_type": "stream",
          "text": [
            "[nltk_data] Downloading package stopwords to /root/nltk_data...\n",
            "[nltk_data]   Package stopwords is already up-to-date!\n"
          ],
          "name": "stdout"
        },
        {
          "output_type": "execute_result",
          "data": {
            "text/plain": [
              "True"
            ]
          },
          "metadata": {
            "tags": []
          },
          "execution_count": 5
        }
      ]
    },
    {
      "cell_type": "code",
      "metadata": {
        "colab": {
          "base_uri": "https://localhost:8080/",
          "height": 234
        },
        "id": "IdFEGqMPeaHC",
        "outputId": "2fc2ff48-c7c3-4091-b59d-fe089e3aa1c3"
      },
      "source": [
        "df = pd.read_csv('./spam.csv')\n",
        "df"
      ],
      "execution_count": 6,
      "outputs": [
        {
          "output_type": "execute_result",
          "data": {
            "text/html": [
              "<div>\n",
              "<style scoped>\n",
              "    .dataframe tbody tr th:only-of-type {\n",
              "        vertical-align: middle;\n",
              "    }\n",
              "\n",
              "    .dataframe tbody tr th {\n",
              "        vertical-align: top;\n",
              "    }\n",
              "\n",
              "    .dataframe thead th {\n",
              "        text-align: right;\n",
              "    }\n",
              "</style>\n",
              "<table border=\"1\" class=\"dataframe\">\n",
              "  <thead>\n",
              "    <tr style=\"text-align: right;\">\n",
              "      <th></th>\n",
              "      <th>Unnamed: 0</th>\n",
              "      <th>num</th>\n",
              "      <th>label</th>\n",
              "      <th>text</th>\n",
              "      <th>label_num</th>\n",
              "    </tr>\n",
              "  </thead>\n",
              "  <tbody>\n",
              "    <tr>\n",
              "      <th>0</th>\n",
              "      <td>0</td>\n",
              "      <td>1</td>\n",
              "      <td>spam</td>\n",
              "      <td>your free lottery</td>\n",
              "      <td>1</td>\n",
              "    </tr>\n",
              "    <tr>\n",
              "      <th>1</th>\n",
              "      <td>1</td>\n",
              "      <td>2</td>\n",
              "      <td>spam</td>\n",
              "      <td>free lottery free you</td>\n",
              "      <td>1</td>\n",
              "    </tr>\n",
              "    <tr>\n",
              "      <th>2</th>\n",
              "      <td>2</td>\n",
              "      <td>3</td>\n",
              "      <td>ham</td>\n",
              "      <td>your free apple</td>\n",
              "      <td>0</td>\n",
              "    </tr>\n",
              "    <tr>\n",
              "      <th>3</th>\n",
              "      <td>3</td>\n",
              "      <td>4</td>\n",
              "      <td>ham</td>\n",
              "      <td>free to contact me</td>\n",
              "      <td>0</td>\n",
              "    </tr>\n",
              "    <tr>\n",
              "      <th>4</th>\n",
              "      <td>4</td>\n",
              "      <td>5</td>\n",
              "      <td>ham</td>\n",
              "      <td>I won award</td>\n",
              "      <td>0</td>\n",
              "    </tr>\n",
              "    <tr>\n",
              "      <th>5</th>\n",
              "      <td>5</td>\n",
              "      <td>6</td>\n",
              "      <td>spam</td>\n",
              "      <td>my lottery ticket</td>\n",
              "      <td>1</td>\n",
              "    </tr>\n",
              "  </tbody>\n",
              "</table>\n",
              "</div>"
            ],
            "text/plain": [
              "   Unnamed: 0  num label                    text  label_num\n",
              "0           0    1  spam       your free lottery          1\n",
              "1           1    2  spam  free lottery free you           1\n",
              "2           2    3   ham        your free apple           0\n",
              "3           3    4   ham     free to contact me           0\n",
              "4           4    5   ham             I won award          0\n",
              "5           5    6  spam      my lottery ticket           1"
            ]
          },
          "metadata": {
            "tags": []
          },
          "execution_count": 6
        }
      ]
    },
    {
      "cell_type": "code",
      "metadata": {
        "id": "2zt6o4GneoiX"
      },
      "source": [
        "# 데이터에서 유의마한 단어 토큰만 주어진 text에서 선별한다\n",
        "# i, my, me, over, on 등 조사나 접미사 같은 불용어(stopwords)는 제거한 후 사용해야하나, \n",
        "# 예제의 데이터셋은 데이터양이 많지 않으므로 생략한다"
      ],
      "execution_count": 7,
      "outputs": []
    },
    {
      "cell_type": "code",
      "metadata": {
        "id": "0aeHKTRbgLJg"
      },
      "source": [
        "def process_text(text):\n",
        "\n",
        "  # text에서 구두점을 삭제한다\n",
        "  nopunc = [char for char in text if char not in string.punctuation]\n",
        "  nopunc = ''.join(nopunc)\n",
        "\n",
        "  # text에서 무의미한 단어(접미사, 조사 등)는 삭제합니다\n",
        "  cleaned_words = [word for word in nopunc.split() \n",
        "                   if word.lower() not in stopwords.words('english')]\n",
        "  return cleaned_words\n",
        "\n"
      ],
      "execution_count": 8,
      "outputs": []
    },
    {
      "cell_type": "code",
      "metadata": {
        "colab": {
          "base_uri": "https://localhost:8080/"
        },
        "id": "3I_WsG3hyr8r",
        "outputId": "73b747a4-0484-49f6-f683-a51120f805f1"
      },
      "source": [
        "df['text'].head()"
      ],
      "execution_count": 9,
      "outputs": [
        {
          "output_type": "execute_result",
          "data": {
            "text/plain": [
              "0         your free lottery\n",
              "1    free lottery free you \n",
              "2          your free apple \n",
              "3       free to contact me \n",
              "4               I won award\n",
              "Name: text, dtype: object"
            ]
          },
          "metadata": {
            "tags": []
          },
          "execution_count": 9
        }
      ]
    },
    {
      "cell_type": "code",
      "metadata": {
        "colab": {
          "base_uri": "https://localhost:8080/"
        },
        "id": "CE6QrRqetADg",
        "outputId": "29b99672-1279-4395-db6d-2e3efbcca241"
      },
      "source": [
        "# process_text함수를 적용하여 데이터 세트의 텍스트 데이터를 토큰화한다.\n",
        "df['text'].apply(process_text)\n",
        "\n"
      ],
      "execution_count": 10,
      "outputs": [
        {
          "output_type": "execute_result",
          "data": {
            "text/plain": [
              "0          [free, lottery]\n",
              "1    [free, lottery, free]\n",
              "2            [free, apple]\n",
              "3          [free, contact]\n",
              "4                  [award]\n",
              "5        [lottery, ticket]\n",
              "Name: text, dtype: object"
            ]
          },
          "metadata": {
            "tags": []
          },
          "execution_count": 10
        }
      ]
    },
    {
      "cell_type": "code",
      "metadata": {
        "colab": {
          "base_uri": "https://localhost:8080/"
        },
        "id": "PGYZHaxn1QKq",
        "outputId": "ecc60b2b-8b1f-4715-ff94-a48c8897d15b"
      },
      "source": [
        "# text를 토큰 수의 행렬로 변환\n",
        "from sklearn.feature_extraction.text import CountVectorizer\n",
        "\n",
        "message_bow = CountVectorizer(analyzer = process_text).fit_transform\n",
        "(df['text'])\n",
        "\n"
      ],
      "execution_count": 11,
      "outputs": [
        {
          "output_type": "execute_result",
          "data": {
            "text/plain": [
              "0         your free lottery\n",
              "1    free lottery free you \n",
              "2          your free apple \n",
              "3       free to contact me \n",
              "4               I won award\n",
              "5        my lottery ticket \n",
              "Name: text, dtype: object"
            ]
          },
          "metadata": {
            "tags": []
          },
          "execution_count": 11
        }
      ]
    },
    {
      "cell_type": "code",
      "metadata": {
        "id": "zSABbe0SUDEn"
      },
      "source": [
        "# 행렬변환\n",
        "\n",
        "from sklearn.feature_extraction.text import CountVectorizer\n",
        "msg_bow = CountVectorizer(analyzer = process_text).fit_transform(df['text'])"
      ],
      "execution_count": 16,
      "outputs": []
    },
    {
      "cell_type": "code",
      "metadata": {
        "colab": {
          "base_uri": "https://localhost:8080/"
        },
        "id": "SL0BLKeTURtX",
        "outputId": "cd2adb07-f75f-4849-87fc-75dc1f04dfc6"
      },
      "source": [
        "msg_bow"
      ],
      "execution_count": 17,
      "outputs": [
        {
          "output_type": "execute_result",
          "data": {
            "text/plain": [
              "<6x6 sparse matrix of type '<class 'numpy.int64'>'\n",
              "\twith 11 stored elements in Compressed Sparse Row format>"
            ]
          },
          "metadata": {
            "tags": []
          },
          "execution_count": 17
        }
      ]
    },
    {
      "cell_type": "code",
      "metadata": {
        "id": "v4IHe_Eq1QIS"
      },
      "source": [
        "# 데이터를 80%의 training과 20%의 testing 데이터셋으로 분리한다.\n",
        "from sklearn.model_selection import train_test_split\n",
        "X_train, X_test, y_train, y_test = train_test_split(msg_bow, df['label_num'], test_size = 0.20, random_state = 0)\n",
        "\n"
      ],
      "execution_count": 18,
      "outputs": []
    },
    {
      "cell_type": "code",
      "metadata": {
        "colab": {
          "base_uri": "https://localhost:8080/"
        },
        "id": "fhex-mBF1QGC",
        "outputId": "d0f5c4a4-39d8-4a1b-8596-63b11314f5ff"
      },
      "source": [
        "# 다항식  나이브베이즈 모델을 만들고 훈련\n",
        "from sklearn.naive_bayes import MultinomialNB\n",
        "classifier = MultinomialNB()\n",
        "classifier.fit(X_train, y_train)\n"
      ],
      "execution_count": 19,
      "outputs": [
        {
          "output_type": "execute_result",
          "data": {
            "text/plain": [
              "MultinomialNB(alpha=1.0, class_prior=None, fit_prior=True)"
            ]
          },
          "metadata": {
            "tags": []
          },
          "execution_count": 19
        }
      ]
    },
    {
      "cell_type": "code",
      "metadata": {
        "colab": {
          "base_uri": "https://localhost:8080/"
        },
        "id": "d7PFqgtk1P_j",
        "outputId": "fe2a1c65-b3d3-438f-fb5d-23e2982389a7"
      },
      "source": [
        "\n",
        "# 데이터셋 분류에 대한 예측 및 실제 관측 값을 보여준다\n",
        "print(classifier.predict(X_train)) # 예측 값 출력\n",
        "print(y_train.values)   # 실제 관측 괎 출력"
      ],
      "execution_count": 20,
      "outputs": [
        {
          "output_type": "stream",
          "text": [
            "[1 0 1 0]\n",
            "[1 0 1 0]\n"
          ],
          "name": "stdout"
        }
      ]
    },
    {
      "cell_type": "code",
      "metadata": {
        "id": "Ge9BLGOMVgHu"
      },
      "source": [
        "# 학습 데이터셋에서 모델의 정확도를 표현\n",
        "# 모델 정확도\n",
        "from sklearn.metrics import classification_report\n",
        "from sklearn.metrics import confusion_matrix, accuracy_score"
      ],
      "execution_count": 22,
      "outputs": []
    },
    {
      "cell_type": "code",
      "metadata": {
        "id": "nZajiTQlVl3F"
      },
      "source": [
        "pred = classifier.predict(X_train) # 모델에 관한 예측 값 출력"
      ],
      "execution_count": 23,
      "outputs": []
    },
    {
      "cell_type": "code",
      "metadata": {
        "colab": {
          "base_uri": "https://localhost:8080/"
        },
        "id": "iUo3j6AKWFdB",
        "outputId": "9bbba823-441b-4057-ee11-7015bbaf2e7f"
      },
      "source": [
        "# 사이킷런 패키지의 metrics 패키지에서 정밀도, 재현율, F1 점수를 구함\n",
        "print(classification_report(y_train,pred))"
      ],
      "execution_count": 24,
      "outputs": [
        {
          "output_type": "stream",
          "text": [
            "              precision    recall  f1-score   support\n",
            "\n",
            "           0       1.00      1.00      1.00         2\n",
            "           1       1.00      1.00      1.00         2\n",
            "\n",
            "    accuracy                           1.00         4\n",
            "   macro avg       1.00      1.00      1.00         4\n",
            "weighted avg       1.00      1.00      1.00         4\n",
            "\n"
          ],
          "name": "stdout"
        }
      ]
    },
    {
      "cell_type": "code",
      "metadata": {
        "colab": {
          "base_uri": "https://localhost:8080/"
        },
        "id": "3ocmymvxWP7o",
        "outputId": "49ea1af7-7efa-45de-d579-cad4d7a1c7ed"
      },
      "source": [
        "# 혼동행렬로 표시\n",
        "\n",
        "confusion_matrix(y_train, pred)"
      ],
      "execution_count": 25,
      "outputs": [
        {
          "output_type": "execute_result",
          "data": {
            "text/plain": [
              "array([[2, 0],\n",
              "       [0, 2]])"
            ]
          },
          "metadata": {
            "tags": []
          },
          "execution_count": 25
        }
      ]
    },
    {
      "cell_type": "code",
      "metadata": {
        "colab": {
          "base_uri": "https://localhost:8080/"
        },
        "id": "XvicIlQzeR9F",
        "outputId": "49870c50-0580-4fda-a637-9c916b191124"
      },
      "source": [
        "# 실제 관측값 출력\n",
        "accuracy_score(y_train, pred)"
      ],
      "execution_count": 26,
      "outputs": [
        {
          "output_type": "execute_result",
          "data": {
            "text/plain": [
              "1.0"
            ]
          },
          "metadata": {
            "tags": []
          },
          "execution_count": 26
        }
      ]
    },
    {
      "cell_type": "code",
      "metadata": {
        "colab": {
          "base_uri": "https://localhost:8080/"
        },
        "id": "yjY4PkvXeW5C",
        "outputId": "f2eae791-b81f-442f-d368-624a645955b9"
      },
      "source": [
        "y_test.values"
      ],
      "execution_count": 27,
      "outputs": [
        {
          "output_type": "execute_result",
          "data": {
            "text/plain": [
              "array([1, 0])"
            ]
          },
          "metadata": {
            "tags": []
          },
          "execution_count": 27
        }
      ]
    },
    {
      "cell_type": "code",
      "metadata": {
        "id": "Gw5bhgIyeY-k"
      },
      "source": [
        "# 테스트 데이터셋에서 모델을 평가\n",
        "pred = classifier.predict(X_test)"
      ],
      "execution_count": 28,
      "outputs": []
    },
    {
      "cell_type": "code",
      "metadata": {
        "colab": {
          "base_uri": "https://localhost:8080/"
        },
        "id": "ZIea6AVKexL2",
        "outputId": "978b2ebe-c662-458d-a29f-c32acd04d47d"
      },
      "source": [
        "print(classification_report(y_test, pred))"
      ],
      "execution_count": 29,
      "outputs": [
        {
          "output_type": "stream",
          "text": [
            "              precision    recall  f1-score   support\n",
            "\n",
            "           0       0.00      0.00      0.00         1\n",
            "           1       0.50      1.00      0.67         1\n",
            "\n",
            "    accuracy                           0.50         2\n",
            "   macro avg       0.25      0.50      0.33         2\n",
            "weighted avg       0.25      0.50      0.33         2\n",
            "\n"
          ],
          "name": "stdout"
        },
        {
          "output_type": "stream",
          "text": [
            "/usr/local/lib/python3.7/dist-packages/sklearn/metrics/_classification.py:1272: UndefinedMetricWarning: Precision and F-score are ill-defined and being set to 0.0 in labels with no predicted samples. Use `zero_division` parameter to control this behavior.\n",
            "  _warn_prf(average, modifier, msg_start, len(result))\n"
          ],
          "name": "stderr"
        }
      ]
    },
    {
      "cell_type": "code",
      "metadata": {
        "colab": {
          "base_uri": "https://localhost:8080/"
        },
        "id": "zfwmsdJ6e0p2",
        "outputId": "c668c8e7-35f8-4939-ef50-b73e348a60cf"
      },
      "source": [
        "confusion_matrix(y_test, pred)"
      ],
      "execution_count": 30,
      "outputs": [
        {
          "output_type": "execute_result",
          "data": {
            "text/plain": [
              "array([[0, 1],\n",
              "       [0, 1]])"
            ]
          },
          "metadata": {
            "tags": []
          },
          "execution_count": 30
        }
      ]
    },
    {
      "cell_type": "code",
      "metadata": {
        "colab": {
          "base_uri": "https://localhost:8080/"
        },
        "id": "oxrFtWiJe6Zj",
        "outputId": "d995b9ac-4779-444a-c2bd-766d60cd2fbd"
      },
      "source": [
        "accuracy_score(y_test, pred)"
      ],
      "execution_count": 31,
      "outputs": [
        {
          "output_type": "execute_result",
          "data": {
            "text/plain": [
              "0.5"
            ]
          },
          "metadata": {
            "tags": []
          },
          "execution_count": 31
        }
      ]
    },
    {
      "cell_type": "code",
      "metadata": {
        "id": "Iv_l2baNe_as"
      },
      "source": [
        ""
      ],
      "execution_count": null,
      "outputs": []
    }
  ]
}